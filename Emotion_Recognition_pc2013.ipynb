{
 "cells": [
  {
   "cell_type": "markdown",
   "metadata": {
    "id": "2nnD9hEa4Mkw"
   },
   "source": [
    "# F21MP Emotion Recognition System"
   ]
  },
  {
   "cell_type": "markdown",
   "metadata": {
    "id": "WV0Lnekn4fkZ"
   },
   "source": [
    "#Aim & Objectives\n",
    "The aim of this project is the development of a fully working emotion recognition software which can detect the face of the person and recognize any of the 7 emotions (happy, angry, sad, surprised, fear, disgust or neutral) shown by the user.\n",
    "\n",
    "The current solution and best practices for emotion recognition will be analyzed, a prototype emotion recognition software will be developed using VGG16 and potential users will evaluate this software."
   ]
  },
  {
   "cell_type": "markdown",
   "metadata": {
    "id": "R0lpa3pj5o1s"
   },
   "source": [
    "#Project Design"
   ]
  },
  {
   "cell_type": "markdown",
   "metadata": {
    "id": "7cUTcMnU4DSY"
   },
   "source": [
    "Import all the important libraries required to initialize all the variables."
   ]
  },
  {
   "cell_type": "code",
   "execution_count": 1,
   "metadata": {
    "colab": {
     "base_uri": "https://localhost:8080/",
     "height": 206
    },
    "id": "8e65-7IzqCSs",
    "outputId": "a6a7178c-52e0-443e-8338-e5dabfa47bd4"
   },
   "outputs": [
    {
     "data": {
      "text/html": [
       "\n",
       "  <div id=\"df-cfa92deb-d4f2-45ca-b804-29f553a507ec\">\n",
       "    <div class=\"colab-df-container\">\n",
       "      <div>\n",
       "<style scoped>\n",
       "    .dataframe tbody tr th:only-of-type {\n",
       "        vertical-align: middle;\n",
       "    }\n",
       "\n",
       "    .dataframe tbody tr th {\n",
       "        vertical-align: top;\n",
       "    }\n",
       "\n",
       "    .dataframe thead th {\n",
       "        text-align: right;\n",
       "    }\n",
       "</style>\n",
       "<table border=\"1\" class=\"dataframe\">\n",
       "  <thead>\n",
       "    <tr style=\"text-align: right;\">\n",
       "      <th></th>\n",
       "      <th>emotion</th>\n",
       "      <th>pixels</th>\n",
       "      <th>Usage</th>\n",
       "    </tr>\n",
       "  </thead>\n",
       "  <tbody>\n",
       "    <tr>\n",
       "      <th>0</th>\n",
       "      <td>0</td>\n",
       "      <td>70 80 82 72 58 58 60 63 54 58 60 48 89 115 121...</td>\n",
       "      <td>Training</td>\n",
       "    </tr>\n",
       "    <tr>\n",
       "      <th>1</th>\n",
       "      <td>0</td>\n",
       "      <td>151 150 147 155 148 133 111 140 170 174 182 15...</td>\n",
       "      <td>Training</td>\n",
       "    </tr>\n",
       "    <tr>\n",
       "      <th>2</th>\n",
       "      <td>2</td>\n",
       "      <td>231 212 156 164 174 138 161 173 182 200 106 38...</td>\n",
       "      <td>Training</td>\n",
       "    </tr>\n",
       "    <tr>\n",
       "      <th>3</th>\n",
       "      <td>4</td>\n",
       "      <td>24 32 36 30 32 23 19 20 30 41 21 22 32 34 21 1...</td>\n",
       "      <td>Training</td>\n",
       "    </tr>\n",
       "    <tr>\n",
       "      <th>4</th>\n",
       "      <td>6</td>\n",
       "      <td>4 0 0 0 0 0 0 0 0 0 0 0 3 15 23 28 48 50 58 84...</td>\n",
       "      <td>Training</td>\n",
       "    </tr>\n",
       "  </tbody>\n",
       "</table>\n",
       "</div>\n",
       "      <button class=\"colab-df-convert\" onclick=\"convertToInteractive('df-cfa92deb-d4f2-45ca-b804-29f553a507ec')\"\n",
       "              title=\"Convert this dataframe to an interactive table.\"\n",
       "              style=\"display:none;\">\n",
       "        \n",
       "  <svg xmlns=\"http://www.w3.org/2000/svg\" height=\"24px\"viewBox=\"0 0 24 24\"\n",
       "       width=\"24px\">\n",
       "    <path d=\"M0 0h24v24H0V0z\" fill=\"none\"/>\n",
       "    <path d=\"M18.56 5.44l.94 2.06.94-2.06 2.06-.94-2.06-.94-.94-2.06-.94 2.06-2.06.94zm-11 1L8.5 8.5l.94-2.06 2.06-.94-2.06-.94L8.5 2.5l-.94 2.06-2.06.94zm10 10l.94 2.06.94-2.06 2.06-.94-2.06-.94-.94-2.06-.94 2.06-2.06.94z\"/><path d=\"M17.41 7.96l-1.37-1.37c-.4-.4-.92-.59-1.43-.59-.52 0-1.04.2-1.43.59L10.3 9.45l-7.72 7.72c-.78.78-.78 2.05 0 2.83L4 21.41c.39.39.9.59 1.41.59.51 0 1.02-.2 1.41-.59l7.78-7.78 2.81-2.81c.8-.78.8-2.07 0-2.86zM5.41 20L4 18.59l7.72-7.72 1.47 1.35L5.41 20z\"/>\n",
       "  </svg>\n",
       "      </button>\n",
       "      \n",
       "  <style>\n",
       "    .colab-df-container {\n",
       "      display:flex;\n",
       "      flex-wrap:wrap;\n",
       "      gap: 12px;\n",
       "    }\n",
       "\n",
       "    .colab-df-convert {\n",
       "      background-color: #E8F0FE;\n",
       "      border: none;\n",
       "      border-radius: 50%;\n",
       "      cursor: pointer;\n",
       "      display: none;\n",
       "      fill: #1967D2;\n",
       "      height: 32px;\n",
       "      padding: 0 0 0 0;\n",
       "      width: 32px;\n",
       "    }\n",
       "\n",
       "    .colab-df-convert:hover {\n",
       "      background-color: #E2EBFA;\n",
       "      box-shadow: 0px 1px 2px rgba(60, 64, 67, 0.3), 0px 1px 3px 1px rgba(60, 64, 67, 0.15);\n",
       "      fill: #174EA6;\n",
       "    }\n",
       "\n",
       "    [theme=dark] .colab-df-convert {\n",
       "      background-color: #3B4455;\n",
       "      fill: #D2E3FC;\n",
       "    }\n",
       "\n",
       "    [theme=dark] .colab-df-convert:hover {\n",
       "      background-color: #434B5C;\n",
       "      box-shadow: 0px 1px 3px 1px rgba(0, 0, 0, 0.15);\n",
       "      filter: drop-shadow(0px 1px 2px rgba(0, 0, 0, 0.3));\n",
       "      fill: #FFFFFF;\n",
       "    }\n",
       "  </style>\n",
       "\n",
       "      <script>\n",
       "        const buttonEl =\n",
       "          document.querySelector('#df-cfa92deb-d4f2-45ca-b804-29f553a507ec button.colab-df-convert');\n",
       "        buttonEl.style.display =\n",
       "          google.colab.kernel.accessAllowed ? 'block' : 'none';\n",
       "\n",
       "        async function convertToInteractive(key) {\n",
       "          const element = document.querySelector('#df-cfa92deb-d4f2-45ca-b804-29f553a507ec');\n",
       "          const dataTable =\n",
       "            await google.colab.kernel.invokeFunction('convertToInteractive',\n",
       "                                                     [key], {});\n",
       "          if (!dataTable) return;\n",
       "\n",
       "          const docLinkHtml = 'Like what you see? Visit the ' +\n",
       "            '<a target=\"_blank\" href=https://colab.research.google.com/notebooks/data_table.ipynb>data table notebook</a>'\n",
       "            + ' to learn more about interactive tables.';\n",
       "          element.innerHTML = '';\n",
       "          dataTable['output_type'] = 'display_data';\n",
       "          await google.colab.output.renderOutput(dataTable, element);\n",
       "          const docLink = document.createElement('div');\n",
       "          docLink.innerHTML = docLinkHtml;\n",
       "          element.appendChild(docLink);\n",
       "        }\n",
       "      </script>\n",
       "    </div>\n",
       "  </div>\n",
       "  "
      ],
      "text/plain": [
       "   emotion                                             pixels     Usage\n",
       "0        0  70 80 82 72 58 58 60 63 54 58 60 48 89 115 121...  Training\n",
       "1        0  151 150 147 155 148 133 111 140 170 174 182 15...  Training\n",
       "2        2  231 212 156 164 174 138 161 173 182 200 106 38...  Training\n",
       "3        4  24 32 36 30 32 23 19 20 30 41 21 22 32 34 21 1...  Training\n",
       "4        6  4 0 0 0 0 0 0 0 0 0 0 0 3 15 23 28 48 50 58 84...  Training"
      ]
     },
     "execution_count": 1,
     "metadata": {},
     "output_type": "execute_result"
    }
   ],
   "source": [
    "#importing the required libraries\n",
    "import pandas as pd\n",
    "from matplotlib import pyplot\n",
    "from math import sqrt \n",
    "import numpy as np \n",
    "import scipy.misc \n",
    "from IPython.display import display \n",
    "from keras.utils import np_utils\n",
    "from keras.preprocessing.image import ImageDataGenerator \n",
    "from tensorflow.keras.utils import plot_model\n",
    "from keras.models import Model\n",
    "from keras.layers import Input, Dense, Flatten, Dropout, BatchNormalization\n",
    "from keras.layers.convolutional import Conv2D\n",
    "from keras.layers.pooling import MaxPooling2D\n",
    "from keras.layers.merge import concatenate\n",
    "from tensorflow.keras.optimizers import Adam, SGD\n",
    "from keras.regularizers import l1, l2\n",
    "from matplotlib import pyplot as plt\n",
    "from sklearn.metrics import confusion_matrix\n",
    "import itertools\n",
    "%matplotlib inline\n",
    "emdata=pd.read_csv('/content/drive/MyDrive/fer2013.csv') #assigning the dataset to a variable\n",
    "emdata.head() #displaying first 5 rows of the dataset "
   ]
  },
  {
   "cell_type": "code",
   "execution_count": 2,
   "metadata": {
    "id": "h9kuomJqundp"
   },
   "outputs": [],
   "source": [
    "from pylab import rcParams\n",
    "rcParams['figure.figsize'] = 15, 10 #changing size of figure"
   ]
  },
  {
   "cell_type": "code",
   "execution_count": 3,
   "metadata": {
    "colab": {
     "base_uri": "https://localhost:8080/"
    },
    "id": "5bWlvniCur4A",
    "outputId": "9612fc69-b4fd-4e35-9a92-069e005fc375"
   },
   "outputs": [
    {
     "data": {
      "text/plain": [
       "3    8989\n",
       "6    6198\n",
       "4    6077\n",
       "2    5121\n",
       "0    4953\n",
       "5    4002\n",
       "1     547\n",
       "Name: emotion, dtype: int64"
      ]
     },
     "execution_count": 3,
     "metadata": {},
     "output_type": "execute_result"
    }
   ],
   "source": [
    "emdata.emotion.value_counts() #displaying the number of data for every emotions"
   ]
  },
  {
   "cell_type": "code",
   "execution_count": 4,
   "metadata": {
    "id": "5mH0azAFuyYY"
   },
   "outputs": [],
   "source": [
    "#assigning lables for the numbers 0-6\n",
    "num_classes = 7\n",
    "width = 48\n",
    "height = 48\n",
    "emotion_labels = [\"Angry\", \"Disgust\", \"Fear\", \"Happy\", \"Sad\", \"Surprise\", \"Neutral\"]\n",
    "classes=np.array((\"Angry\", \"Disgust\", \"Fear\", \"Happy\", \"Sad\", \"Surprise\", \"Neutral\"))"
   ]
  },
  {
   "cell_type": "code",
   "execution_count": 5,
   "metadata": {
    "colab": {
     "base_uri": "https://localhost:8080/"
    },
    "id": "v2ZyFcn3uzhM",
    "outputId": "f297ca71-22e3-4776-9cd3-8f74a8b85ec8"
   },
   "outputs": [
    {
     "data": {
      "text/plain": [
       "Training       28709\n",
       "PublicTest      3589\n",
       "PrivateTest     3589\n",
       "Name: Usage, dtype: int64"
      ]
     },
     "execution_count": 5,
     "metadata": {},
     "output_type": "execute_result"
    }
   ],
   "source": [
    "emdata.Usage.value_counts() "
   ]
  },
  {
   "cell_type": "markdown",
   "metadata": {
    "id": "gXo4ji_65F9s"
   },
   "source": [
    "Assigning pixels and emotions to X list and Y list\n"
   ]
  },
  {
   "cell_type": "code",
   "execution_count": 6,
   "metadata": {
    "id": "WTzmUrn_u64P"
   },
   "outputs": [],
   "source": [
    "train_set = emdata[(emdata.Usage == 'Training')] \n",
    "val_set = emdata[(emdata.Usage == 'PublicTest')]\n",
    "test_set = emdata[(emdata.Usage == 'PrivateTest')] \n",
    "# assigning pixels to X variables \n",
    "X_train = np.array(list(map(str.split, train_set.pixels)), np.float32) \n",
    "X_val = np.array(list(map(str.split, val_set.pixels)), np.float32)  #converting the pixels into float\n",
    "X_test = np.array(list(map(str.split, test_set.pixels)), np.float32) \n",
    "X_train = X_train.reshape(X_train.shape[0], 48, 48, 1) \n",
    "X_val = X_val.reshape(X_val.shape[0], 48, 48, 1)\n",
    "X_test = X_test.reshape(X_test.shape[0], 48, 48, 1)"
   ]
  },
  {
   "cell_type": "code",
   "execution_count": 7,
   "metadata": {
    "id": "_XcFG-ImvA45"
   },
   "outputs": [],
   "source": [
    "num_train = X_train.shape[0]\n",
    "num_val = X_val.shape[0]\n",
    "num_test = X_test.shape[0]"
   ]
  },
  {
   "cell_type": "code",
   "execution_count": 8,
   "metadata": {
    "id": "Wq6990sJvFcV"
   },
   "outputs": [],
   "source": [
    "# assigning emotions to y variables\n",
    "y_train = train_set.emotion \n",
    "y_train = np_utils.to_categorical(y_train, num_classes) \n",
    "y_val = val_set.emotion \n",
    "y_val = np_utils.to_categorical(y_val, num_classes) \n",
    "y_test = test_set.emotion \n",
    "y_test = np_utils.to_categorical(y_test, num_classes) "
   ]
  },
  {
   "cell_type": "markdown",
   "metadata": {
    "id": "NPGupM3m5W7L"
   },
   "source": [
    "Image Data Augmentation is used.\n",
    "\n",
    "Adding data augmentation to enhance the volume of data by adding slightly changed copies of currently existing data. It serves as a regularizer and aids in lowering overfitting while a machine learning model is being trained"
   ]
  },
  {
   "cell_type": "code",
   "execution_count": 9,
   "metadata": {
    "id": "x4rFh_BAvHp8"
   },
   "outputs": [],
   "source": [
    "#Image Augmentation for Facial Emotion Detection\n",
    "datagen = ImageDataGenerator( \n",
    "    rescale=1./255,\n",
    "    rotation_range = 10,\n",
    "    horizontal_flip = True,\n",
    "    width_shift_range=0.1,\n",
    "    height_shift_range=0.1,\n",
    "    fill_mode = 'nearest')\n",
    "\n",
    "testgen = ImageDataGenerator( \n",
    "    rescale=1./255\n",
    "    )\n",
    "datagen.fit(X_train)\n",
    "batch_size = 64"
   ]
  },
  {
   "cell_type": "code",
   "execution_count": 10,
   "metadata": {
    "colab": {
     "base_uri": "https://localhost:8080/",
     "height": 575
    },
    "id": "rOaA88jgvLXz",
    "outputId": "06de5c94-6aaf-469b-8b71-204c3f18c9fa"
   },
   "outputs": [
    {
     "data": {
      "image/png": "[encoded data removed]",
      "text/plain": [
       "<Figure size 1080x720 with 9 Axes>"
      ]
     },
     "metadata": {
      "needs_background": "light"
     },
     "output_type": "display_data"
    }
   ],
   "source": [
    "#applying some data augmentation before passing it to model \n",
    "for X_batch, y_batch in datagen.flow(X_train, y_train, batch_size=9):\n",
    "    for i in range(0, 9): \n",
    "        pyplot.axis('off') \n",
    "        pyplot.subplot(330 + 1 + i) \n",
    "        pyplot.imshow(X_batch[i].reshape(48, 48), cmap=pyplot.get_cmap('gray'))\n",
    "    pyplot.axis('off') \n",
    "    pyplot.show() \n",
    "    break "
   ]
  },
  {
   "cell_type": "code",
   "execution_count": 11,
   "metadata": {
    "colab": {
     "base_uri": "https://localhost:8080/",
     "height": 612
    },
    "id": "_XvFatfuCdjA",
    "outputId": "3ec170fc-81b0-4c54-e647-d13c64f31dfb"
   },
   "outputs": [
    {
     "data": {
      "text/plain": [
       "<matplotlib.axes._subplots.AxesSubplot at 0x7f18789cc690>"
      ]
     },
     "execution_count": 11,
     "metadata": {},
     "output_type": "execute_result"
    },
    {
     "data": {
      "image/png": "[encoded data removed]",
      "text/plain": [
       "<Figure size 1080x720 with 1 Axes>"
      ]
     },
     "metadata": {},
     "output_type": "display_data"
    }
   ],
   "source": [
    "#Plotting number of data for the 7 categories\n",
    "import seaborn as sns\n",
    "sns.set_theme(style='darkgrid', palette='deep', font='sans-serif', font_scale=1)\n",
    "sns.histplot(data= emdata,kde = True)"
   ]
  },
  {
   "cell_type": "markdown",
   "metadata": {
    "id": "kE5FnQ3khXoW"
   },
   "source": [
    "From the graph above we see that happy has the most data of around 8000 data and disgust has the least amount of data of around 1000 data."
   ]
  },
  {
   "cell_type": "code",
   "execution_count": 12,
   "metadata": {
    "id": "k0iM1y86vWtM"
   },
   "outputs": [],
   "source": [
    "#fitting data to the image generator\n",
    "train_flow = datagen.flow(X_train, y_train, batch_size=batch_size) \n",
    "val_flow = testgen.flow(X_val, y_val, batch_size=batch_size) \n",
    "test_flow = testgen.flow(X_test, y_test, batch_size=batch_size) "
   ]
  },
  {
   "cell_type": "markdown",
   "metadata": {
    "id": "0bQdIiby8CXP"
   },
   "source": [
    "#VGG-16 Model Implementation\n",
    "\n",
    "To perform learning effectively, the model is first initialized, then a batch normalization layer is added, and then various layers using ReLu as an activation function, max pool layers, and dropouts. We compile the model using Adam as an optimizer, loss as categorical cross-entropy, and metrics as accuracy."
   ]
  },
  {
   "cell_type": "code",
   "execution_count": 13,
   "metadata": {
    "id": "1ptaftT7va3u"
   },
   "outputs": [],
   "source": [
    "# building the model and defining the architecture of the model\n",
    "def FER_Model(input_shape=(48,48,1)):\n",
    "    # first input model\n",
    "    visible = Input(shape=input_shape, name='input')\n",
    "    num_classes = 7\n",
    "    #creating blocks using conv2D\n",
    "    #the 1-st block\n",
    "    conv1_1 = Conv2D(64, kernel_size=3, activation='relu', padding='same', name = 'conv1_1')(visible)\n",
    "    conv1_1 = BatchNormalization()(conv1_1)\n",
    "    conv1_2 = Conv2D(64, kernel_size=3, activation='relu', padding='same', name = 'conv1_2')(conv1_1)\n",
    "    conv1_2 = BatchNormalization()(conv1_2)\n",
    "    pool1_1 = MaxPooling2D(pool_size=(2,2), name = 'pool1_1')(conv1_2)\n",
    "    drop1_1 = Dropout(0.3, name = 'drop1_1')(pool1_1)\n",
    "\n",
    "    #the 2-nd block\n",
    "    conv2_1 = Conv2D(128, kernel_size=3, activation='relu', padding='same', name = 'conv2_1')(drop1_1)\n",
    "    conv2_1 = BatchNormalization()(conv2_1)\n",
    "    conv2_2 = Conv2D(128, kernel_size=3, activation='relu', padding='same', name = 'conv2_2')(conv2_1)\n",
    "    conv2_2 = BatchNormalization()(conv2_2)\n",
    "    conv2_3 = Conv2D(128, kernel_size=3, activation='relu', padding='same', name = 'conv2_3')(conv2_2)\n",
    "    conv2_2 = BatchNormalization()(conv2_3)\n",
    "    pool2_1 = MaxPooling2D(pool_size=(2,2), name = 'pool2_1')(conv2_3)\n",
    "    drop2_1 = Dropout(0.3, name = 'drop2_1')(pool2_1)\n",
    "\n",
    "    #the 3-rd block\n",
    "    conv3_1 = Conv2D(256, kernel_size=3, activation='relu', padding='same', name = 'conv3_1')(drop2_1)\n",
    "    conv3_1 = BatchNormalization()(conv3_1)\n",
    "    conv3_2 = Conv2D(256, kernel_size=3, activation='relu', padding='same', name = 'conv3_2')(conv3_1)\n",
    "    conv3_2 = BatchNormalization()(conv3_2)\n",
    "    conv3_3 = Conv2D(256, kernel_size=3, activation='relu', padding='same', name = 'conv3_3')(conv3_2)\n",
    "    conv3_3 = BatchNormalization()(conv3_3)\n",
    "    conv3_4 = Conv2D(256, kernel_size=3, activation='relu', padding='same', name = 'conv3_4')(conv3_3)\n",
    "    conv3_4 = BatchNormalization()(conv3_4)\n",
    "    pool3_1 = MaxPooling2D(pool_size=(2,2), name = 'pool3_1')(conv3_4)\n",
    "    drop3_1 = Dropout(0.3, name = 'drop3_1')(pool3_1)\n",
    "\n",
    "    #the 4-th block\n",
    "    conv4_1 = Conv2D(256, kernel_size=3, activation='relu', padding='same', name = 'conv4_1')(drop3_1)\n",
    "    conv4_1 = BatchNormalization()(conv4_1)\n",
    "    conv4_2 = Conv2D(256, kernel_size=3, activation='relu', padding='same', name = 'conv4_2')(conv4_1)\n",
    "    conv4_2 = BatchNormalization()(conv4_2)\n",
    "    conv4_3 = Conv2D(256, kernel_size=3, activation='relu', padding='same', name = 'conv4_3')(conv4_2)\n",
    "    conv4_3 = BatchNormalization()(conv4_3)\n",
    "    conv4_4 = Conv2D(256, kernel_size=3, activation='relu', padding='same', name = 'conv4_4')(conv4_3)\n",
    "    conv4_4 = BatchNormalization()(conv4_4)\n",
    "    pool4_1 = MaxPooling2D(pool_size=(2,2), name = 'pool4_1')(conv4_4)\n",
    "    drop4_1 = Dropout(0.3, name = 'drop4_1')(pool4_1)\n",
    "\n",
    "    #the 5-th block\n",
    "    conv5_1 = Conv2D(512, kernel_size=3, activation='relu', padding='same', name = 'conv5_1')(drop4_1)\n",
    "    conv5_1 = BatchNormalization()(conv5_1)\n",
    "    conv5_2 = Conv2D(512, kernel_size=3, activation='relu', padding='same', name = 'conv5_2')(conv5_1)\n",
    "    conv5_2 = BatchNormalization()(conv5_2)\n",
    "    conv5_3 = Conv2D(512, kernel_size=3, activation='relu', padding='same', name = 'conv5_3')(conv5_2)\n",
    "    conv5_3 = BatchNormalization()(conv5_3)\n",
    "    conv5_4 = Conv2D(512, kernel_size=3, activation='relu', padding='same', name = 'conv5_4')(conv5_3)\n",
    "    conv5_3 = BatchNormalization()(conv5_3)\n",
    "    pool5_1 = MaxPooling2D(pool_size=(2,2), name = 'pool5_1')(conv5_4)\n",
    "    drop5_1 = Dropout(0.3, name = 'drop5_1')(pool5_1)\n",
    "\n",
    "    #Flatten and output\n",
    "    flatten = Flatten(name = 'flatten')(drop5_1)\n",
    "    ouput = Dense(num_classes, activation='softmax', name = 'output')(flatten)\n",
    "\n",
    "    # create model \n",
    "    model = Model(inputs =visible, outputs = ouput)\n",
    "    # summary layers\n",
    "    print(model.summary())\n",
    "    \n",
    "    return model"
   ]
  },
  {
   "cell_type": "code",
   "execution_count": 14,
   "metadata": {
    "colab": {
     "base_uri": "https://localhost:8080/"
    },
    "id": "gQfnbmyUvfOW",
    "outputId": "b62fee2b-97c4-4db9-ac72-3fe172f759c8"
   },
   "outputs": [
    {
     "name": "stdout",
     "output_type": "stream",
     "text": [
      "Model: \"model\"\n",
      "_________________________________________________________________\n",
      " Layer (type)                Output Shape              Param #   \n",
      "=================================================================\n",
      " input (InputLayer)          [(None, 48, 48, 1)]       0         \n",
      "                                                                 \n",
      " conv1_1 (Conv2D)            (None, 48, 48, 64)        640       \n",
      "                                                                 \n",
      " batch_normalization (BatchN  (None, 48, 48, 64)       256       \n",
      " ormalization)                                                   \n",
      "                                                                 \n",
      " conv1_2 (Conv2D)            (None, 48, 48, 64)        36928     \n",
      "                                                                 \n",
      " batch_normalization_1 (Batc  (None, 48, 48, 64)       256       \n",
      " hNormalization)                                                 \n",
      "                                                                 \n",
      " pool1_1 (MaxPooling2D)      (None, 24, 24, 64)        0         \n",
      "                                                                 \n",
      " drop1_1 (Dropout)           (None, 24, 24, 64)        0         \n",
      "                                                                 \n",
      " conv2_1 (Conv2D)            (None, 24, 24, 128)       73856     \n",
      "                                                                 \n",
      " batch_normalization_2 (Batc  (None, 24, 24, 128)      512       \n",
      " hNormalization)                                                 \n",
      "                                                                 \n",
      " conv2_2 (Conv2D)            (None, 24, 24, 128)       147584    \n",
      "                                                                 \n",
      " batch_normalization_3 (Batc  (None, 24, 24, 128)      512       \n",
      " hNormalization)                                                 \n",
      "                                                                 \n",
      " conv2_3 (Conv2D)            (None, 24, 24, 128)       147584    \n",
      "                                                                 \n",
      " pool2_1 (MaxPooling2D)      (None, 12, 12, 128)       0         \n",
      "                                                                 \n",
      " drop2_1 (Dropout)           (None, 12, 12, 128)       0         \n",
      "                                                                 \n",
      " conv3_1 (Conv2D)            (None, 12, 12, 256)       295168    \n",
      "                                                                 \n",
      " batch_normalization_5 (Batc  (None, 12, 12, 256)      1024      \n",
      " hNormalization)                                                 \n",
      "                                                                 \n",
      " conv3_2 (Conv2D)            (None, 12, 12, 256)       590080    \n",
      "                                                                 \n",
      " batch_normalization_6 (Batc  (None, 12, 12, 256)      1024      \n",
      " hNormalization)                                                 \n",
      "                                                                 \n",
      " conv3_3 (Conv2D)            (None, 12, 12, 256)       590080    \n",
      "                                                                 \n",
      " batch_normalization_7 (Batc  (None, 12, 12, 256)      1024      \n",
      " hNormalization)                                                 \n",
      "                                                                 \n",
      " conv3_4 (Conv2D)            (None, 12, 12, 256)       590080    \n",
      "                                                                 \n",
      " batch_normalization_8 (Batc  (None, 12, 12, 256)      1024      \n",
      " hNormalization)                                                 \n",
      "                                                                 \n",
      " pool3_1 (MaxPooling2D)      (None, 6, 6, 256)         0         \n",
      "                                                                 \n",
      " drop3_1 (Dropout)           (None, 6, 6, 256)         0         \n",
      "                                                                 \n",
      " conv4_1 (Conv2D)            (None, 6, 6, 256)         590080    \n",
      "                                                                 \n",
      " batch_normalization_9 (Batc  (None, 6, 6, 256)        1024      \n",
      " hNormalization)                                                 \n",
      "                                                                 \n",
      " conv4_2 (Conv2D)            (None, 6, 6, 256)         590080    \n",
      "                                                                 \n",
      " batch_normalization_10 (Bat  (None, 6, 6, 256)        1024      \n",
      " chNormalization)                                                \n",
      "                                                                 \n",
      " conv4_3 (Conv2D)            (None, 6, 6, 256)         590080    \n",
      "                                                                 \n",
      " batch_normalization_11 (Bat  (None, 6, 6, 256)        1024      \n",
      " chNormalization)                                                \n",
      "                                                                 \n",
      " conv4_4 (Conv2D)            (None, 6, 6, 256)         590080    \n",
      "                                                                 \n",
      " batch_normalization_12 (Bat  (None, 6, 6, 256)        1024      \n",
      " chNormalization)                                                \n",
      "                                                                 \n",
      " pool4_1 (MaxPooling2D)      (None, 3, 3, 256)         0         \n",
      "                                                                 \n",
      " drop4_1 (Dropout)           (None, 3, 3, 256)         0         \n",
      "                                                                 \n",
      " conv5_1 (Conv2D)            (None, 3, 3, 512)         1180160   \n",
      "                                                                 \n",
      " batch_normalization_13 (Bat  (None, 3, 3, 512)        2048      \n",
      " chNormalization)                                                \n",
      "                                                                 \n",
      " conv5_2 (Conv2D)            (None, 3, 3, 512)         2359808   \n",
      "                                                                 \n",
      " batch_normalization_14 (Bat  (None, 3, 3, 512)        2048      \n",
      " chNormalization)                                                \n",
      "                                                                 \n",
      " conv5_3 (Conv2D)            (None, 3, 3, 512)         2359808   \n",
      "                                                                 \n",
      " batch_normalization_15 (Bat  (None, 3, 3, 512)        2048      \n",
      " chNormalization)                                                \n",
      "                                                                 \n",
      " conv5_4 (Conv2D)            (None, 3, 3, 512)         2359808   \n",
      "                                                                 \n",
      " pool5_1 (MaxPooling2D)      (None, 1, 1, 512)         0         \n",
      "                                                                 \n",
      " drop5_1 (Dropout)           (None, 1, 1, 512)         0         \n",
      "                                                                 \n",
      " flatten (Flatten)           (None, 512)               0         \n",
      "                                                                 \n",
      " output (Dense)              (None, 7)                 3591      \n",
      "                                                                 \n",
      "=================================================================\n",
      "Total params: 13,111,367\n",
      "Trainable params: 13,103,431\n",
      "Non-trainable params: 7,936\n",
      "_________________________________________________________________\n",
      "None\n"
     ]
    },
    {
     "name": "stderr",
     "output_type": "stream",
     "text": [
      "/usr/local/lib/python3.7/dist-packages/keras/optimizer_v2/adam.py:105: UserWarning: The `lr` argument is deprecated, use `learning_rate` instead.\n",
      "  super(Adam, self).__init__(name, **kwargs)\n"
     ]
    }
   ],
   "source": [
    "#Compiling model using Adam optimizer\n",
    "model = FER_Model()\n",
    "opt = Adam(lr=0.0001, decay=1e-6)\n",
    "model.compile(loss='categorical_crossentropy', optimizer=opt, metrics=['accuracy']) "
   ]
  },
  {
   "cell_type": "markdown",
   "metadata": {
    "id": "2PvBVL5X8d_z"
   },
   "source": [
    "We are training the model by iterating 100 times over the entire training set with 100 epochs."
   ]
  },
  {
   "cell_type": "code",
   "execution_count": 15,
   "metadata": {
    "colab": {
     "base_uri": "https://localhost:8080/"
    },
    "id": "9g3SmwXIvkO8",
    "outputId": "4ff9a759-041b-490d-9ff3-39fe18725580"
   },
   "outputs": [
    {
     "name": "stderr",
     "output_type": "stream",
     "text": [
      "/usr/local/lib/python3.7/dist-packages/ipykernel_launcher.py:8: UserWarning: `Model.fit_generator` is deprecated and will be removed in a future version. Please use `Model.fit`, which supports generators.\n",
      "  \n"
     ]
    },
    {
     "name": "stdout",
     "output_type": "stream",
     "text": [
      "Epoch 1/100\n",
      "448/448 - 46s - loss: 2.0306 - accuracy: 0.2154 - val_loss: 1.9008 - val_accuracy: 0.1800 - 46s/epoch - 102ms/step\n",
      "Epoch 2/100\n",
      "448/448 - 31s - loss: 1.7886 - accuracy: 0.2502 - val_loss: 1.8167 - val_accuracy: 0.2566 - 31s/epoch - 69ms/step\n",
      "Epoch 3/100\n",
      "448/448 - 32s - loss: 1.7547 - accuracy: 0.2738 - val_loss: 1.7562 - val_accuracy: 0.2875 - 32s/epoch - 71ms/step\n",
      "Epoch 4/100\n",
      "448/448 - 32s - loss: 1.6996 - accuracy: 0.3153 - val_loss: 2.0740 - val_accuracy: 0.3020 - 32s/epoch - 72ms/step\n",
      "Epoch 5/100\n",
      "448/448 - 32s - loss: 1.6337 - accuracy: 0.3519 - val_loss: 1.6703 - val_accuracy: 0.3789 - 32s/epoch - 71ms/step\n",
      "Epoch 6/100\n",
      "448/448 - 32s - loss: 1.5747 - accuracy: 0.3791 - val_loss: 1.5322 - val_accuracy: 0.4291 - 32s/epoch - 71ms/step\n",
      "Epoch 7/100\n",
      "448/448 - 33s - loss: 1.5025 - accuracy: 0.4173 - val_loss: 1.4390 - val_accuracy: 0.4531 - 33s/epoch - 73ms/step\n",
      "Epoch 8/100\n",
      "448/448 - 32s - loss: 1.4324 - accuracy: 0.4441 - val_loss: 1.3655 - val_accuracy: 0.4784 - 32s/epoch - 72ms/step\n",
      "Epoch 9/100\n",
      "448/448 - 32s - loss: 1.3658 - accuracy: 0.4764 - val_loss: 1.2957 - val_accuracy: 0.5082 - 32s/epoch - 71ms/step\n",
      "Epoch 10/100\n",
      "448/448 - 32s - loss: 1.3128 - accuracy: 0.4973 - val_loss: 1.2786 - val_accuracy: 0.5171 - 32s/epoch - 71ms/step\n",
      "Epoch 11/100\n",
      "448/448 - 32s - loss: 1.2701 - accuracy: 0.5167 - val_loss: 1.2135 - val_accuracy: 0.5411 - 32s/epoch - 72ms/step\n",
      "Epoch 12/100\n",
      "448/448 - 32s - loss: 1.2281 - accuracy: 0.5346 - val_loss: 1.1957 - val_accuracy: 0.5405 - 32s/epoch - 72ms/step\n",
      "Epoch 13/100\n",
      "448/448 - 32s - loss: 1.1926 - accuracy: 0.5466 - val_loss: 1.1827 - val_accuracy: 0.5525 - 32s/epoch - 71ms/step\n",
      "Epoch 14/100\n",
      "448/448 - 32s - loss: 1.1588 - accuracy: 0.5598 - val_loss: 1.1487 - val_accuracy: 0.5639 - 32s/epoch - 71ms/step\n",
      "Epoch 15/100\n",
      "448/448 - 32s - loss: 1.1339 - accuracy: 0.5743 - val_loss: 1.1872 - val_accuracy: 0.5581 - 32s/epoch - 72ms/step\n",
      "Epoch 16/100\n",
      "448/448 - 32s - loss: 1.1127 - accuracy: 0.5792 - val_loss: 1.1602 - val_accuracy: 0.5834 - 32s/epoch - 71ms/step\n",
      "Epoch 17/100\n",
      "448/448 - 32s - loss: 1.0851 - accuracy: 0.5925 - val_loss: 1.1063 - val_accuracy: 0.5874 - 32s/epoch - 72ms/step\n",
      "Epoch 18/100\n",
      "448/448 - 32s - loss: 1.0716 - accuracy: 0.5953 - val_loss: 1.1646 - val_accuracy: 0.5751 - 32s/epoch - 71ms/step\n",
      "Epoch 19/100\n",
      "448/448 - 32s - loss: 1.0498 - accuracy: 0.6056 - val_loss: 1.1017 - val_accuracy: 0.5896 - 32s/epoch - 72ms/step\n",
      "Epoch 20/100\n",
      "448/448 - 32s - loss: 1.0294 - accuracy: 0.6116 - val_loss: 1.0772 - val_accuracy: 0.5991 - 32s/epoch - 71ms/step\n",
      "Epoch 21/100\n",
      "448/448 - 32s - loss: 1.0154 - accuracy: 0.6196 - val_loss: 1.0267 - val_accuracy: 0.6264 - 32s/epoch - 71ms/step\n",
      "Epoch 22/100\n",
      "448/448 - 32s - loss: 0.9990 - accuracy: 0.6234 - val_loss: 1.0231 - val_accuracy: 0.6225 - 32s/epoch - 71ms/step\n",
      "Epoch 23/100\n",
      "448/448 - 32s - loss: 0.9838 - accuracy: 0.6295 - val_loss: 1.0009 - val_accuracy: 0.6278 - 32s/epoch - 72ms/step\n",
      "Epoch 24/100\n",
      "448/448 - 32s - loss: 0.9696 - accuracy: 0.6387 - val_loss: 1.0094 - val_accuracy: 0.6303 - 32s/epoch - 71ms/step\n",
      "Epoch 25/100\n",
      "448/448 - 32s - loss: 0.9507 - accuracy: 0.6439 - val_loss: 1.0309 - val_accuracy: 0.6255 - 32s/epoch - 71ms/step\n",
      "Epoch 26/100\n",
      "448/448 - 32s - loss: 0.9419 - accuracy: 0.6470 - val_loss: 1.0029 - val_accuracy: 0.6364 - 32s/epoch - 71ms/step\n",
      "Epoch 27/100\n",
      "448/448 - 32s - loss: 0.9226 - accuracy: 0.6566 - val_loss: 1.0142 - val_accuracy: 0.6208 - 32s/epoch - 72ms/step\n",
      "Epoch 28/100\n",
      "448/448 - 32s - loss: 0.9115 - accuracy: 0.6569 - val_loss: 1.0065 - val_accuracy: 0.6344 - 32s/epoch - 71ms/step\n",
      "Epoch 29/100\n",
      "448/448 - 32s - loss: 0.9037 - accuracy: 0.6617 - val_loss: 1.0000 - val_accuracy: 0.6353 - 32s/epoch - 71ms/step\n",
      "Epoch 30/100\n",
      "448/448 - 32s - loss: 0.8820 - accuracy: 0.6689 - val_loss: 0.9805 - val_accuracy: 0.6289 - 32s/epoch - 72ms/step\n",
      "Epoch 31/100\n",
      "448/448 - 32s - loss: 0.8760 - accuracy: 0.6746 - val_loss: 1.0122 - val_accuracy: 0.6252 - 32s/epoch - 71ms/step\n",
      "Epoch 32/100\n",
      "448/448 - 32s - loss: 0.8655 - accuracy: 0.6762 - val_loss: 0.9984 - val_accuracy: 0.6227 - 32s/epoch - 71ms/step\n",
      "Epoch 33/100\n",
      "448/448 - 32s - loss: 0.8518 - accuracy: 0.6833 - val_loss: 0.9846 - val_accuracy: 0.6425 - 32s/epoch - 71ms/step\n",
      "Epoch 34/100\n",
      "448/448 - 32s - loss: 0.8358 - accuracy: 0.6903 - val_loss: 0.9797 - val_accuracy: 0.6520 - 32s/epoch - 72ms/step\n",
      "Epoch 35/100\n",
      "448/448 - 32s - loss: 0.8265 - accuracy: 0.6909 - val_loss: 0.9798 - val_accuracy: 0.6461 - 32s/epoch - 71ms/step\n",
      "Epoch 36/100\n",
      "448/448 - 32s - loss: 0.8131 - accuracy: 0.6954 - val_loss: 1.0026 - val_accuracy: 0.6361 - 32s/epoch - 71ms/step\n",
      "Epoch 37/100\n",
      "448/448 - 32s - loss: 0.8015 - accuracy: 0.7012 - val_loss: 0.9314 - val_accuracy: 0.6629 - 32s/epoch - 71ms/step\n",
      "Epoch 38/100\n",
      "448/448 - 32s - loss: 0.7900 - accuracy: 0.7075 - val_loss: 1.0101 - val_accuracy: 0.6422 - 32s/epoch - 72ms/step\n",
      "Epoch 39/100\n",
      "448/448 - 32s - loss: 0.7890 - accuracy: 0.7060 - val_loss: 0.9697 - val_accuracy: 0.6517 - 32s/epoch - 71ms/step\n",
      "Epoch 40/100\n",
      "448/448 - 32s - loss: 0.7713 - accuracy: 0.7121 - val_loss: 0.9667 - val_accuracy: 0.6551 - 32s/epoch - 71ms/step\n",
      "Epoch 41/100\n",
      "448/448 - 32s - loss: 0.7616 - accuracy: 0.7166 - val_loss: 0.9883 - val_accuracy: 0.6545 - 32s/epoch - 71ms/step\n",
      "Epoch 42/100\n",
      "448/448 - 32s - loss: 0.7408 - accuracy: 0.7220 - val_loss: 1.0071 - val_accuracy: 0.6514 - 32s/epoch - 72ms/step\n",
      "Epoch 43/100\n",
      "448/448 - 32s - loss: 0.7382 - accuracy: 0.7252 - val_loss: 0.9833 - val_accuracy: 0.6567 - 32s/epoch - 71ms/step\n",
      "Epoch 44/100\n",
      "448/448 - 32s - loss: 0.7296 - accuracy: 0.7258 - val_loss: 0.9776 - val_accuracy: 0.6528 - 32s/epoch - 72ms/step\n",
      "Epoch 45/100\n",
      "448/448 - 32s - loss: 0.7130 - accuracy: 0.7350 - val_loss: 1.0040 - val_accuracy: 0.6414 - 32s/epoch - 71ms/step\n",
      "Epoch 46/100\n",
      "448/448 - 32s - loss: 0.7105 - accuracy: 0.7351 - val_loss: 1.0519 - val_accuracy: 0.6442 - 32s/epoch - 72ms/step\n",
      "Epoch 47/100\n",
      "448/448 - 32s - loss: 0.6957 - accuracy: 0.7394 - val_loss: 0.9708 - val_accuracy: 0.6682 - 32s/epoch - 71ms/step\n",
      "Epoch 48/100\n",
      "448/448 - 32s - loss: 0.6939 - accuracy: 0.7436 - val_loss: 1.0178 - val_accuracy: 0.6539 - 32s/epoch - 71ms/step\n",
      "Epoch 49/100\n",
      "448/448 - 32s - loss: 0.6799 - accuracy: 0.7478 - val_loss: 0.9723 - val_accuracy: 0.6684 - 32s/epoch - 71ms/step\n",
      "Epoch 50/100\n",
      "448/448 - 32s - loss: 0.6661 - accuracy: 0.7522 - val_loss: 1.0091 - val_accuracy: 0.6595 - 32s/epoch - 72ms/step\n",
      "Epoch 51/100\n",
      "448/448 - 32s - loss: 0.6571 - accuracy: 0.7572 - val_loss: 0.9965 - val_accuracy: 0.6740 - 32s/epoch - 71ms/step\n",
      "Epoch 52/100\n",
      "448/448 - 32s - loss: 0.6443 - accuracy: 0.7597 - val_loss: 1.0083 - val_accuracy: 0.6626 - 32s/epoch - 71ms/step\n",
      "Epoch 53/100\n",
      "448/448 - 32s - loss: 0.6349 - accuracy: 0.7638 - val_loss: 1.0079 - val_accuracy: 0.6693 - 32s/epoch - 71ms/step\n",
      "Epoch 54/100\n",
      "448/448 - 32s - loss: 0.6215 - accuracy: 0.7685 - val_loss: 0.9924 - val_accuracy: 0.6643 - 32s/epoch - 72ms/step\n",
      "Epoch 55/100\n",
      "448/448 - 32s - loss: 0.6144 - accuracy: 0.7722 - val_loss: 1.0100 - val_accuracy: 0.6640 - 32s/epoch - 71ms/step\n",
      "Epoch 56/100\n",
      "448/448 - 32s - loss: 0.6108 - accuracy: 0.7736 - val_loss: 1.0249 - val_accuracy: 0.6595 - 32s/epoch - 71ms/step\n",
      "Epoch 57/100\n",
      "448/448 - 32s - loss: 0.5978 - accuracy: 0.7759 - val_loss: 1.0547 - val_accuracy: 0.6654 - 32s/epoch - 71ms/step\n",
      "Epoch 58/100\n",
      "448/448 - 32s - loss: 0.5921 - accuracy: 0.7801 - val_loss: 0.9961 - val_accuracy: 0.6776 - 32s/epoch - 72ms/step\n",
      "Epoch 59/100\n",
      "448/448 - 32s - loss: 0.5841 - accuracy: 0.7839 - val_loss: 1.0199 - val_accuracy: 0.6698 - 32s/epoch - 71ms/step\n",
      "Epoch 60/100\n",
      "448/448 - 32s - loss: 0.5716 - accuracy: 0.7878 - val_loss: 1.0466 - val_accuracy: 0.6665 - 32s/epoch - 71ms/step\n",
      "Epoch 61/100\n",
      "448/448 - 32s - loss: 0.5651 - accuracy: 0.7906 - val_loss: 1.0632 - val_accuracy: 0.6620 - 32s/epoch - 71ms/step\n",
      "Epoch 62/100\n",
      "448/448 - 32s - loss: 0.5509 - accuracy: 0.7935 - val_loss: 1.0700 - val_accuracy: 0.6721 - 32s/epoch - 72ms/step\n",
      "Epoch 63/100\n",
      "448/448 - 32s - loss: 0.5407 - accuracy: 0.7997 - val_loss: 1.0797 - val_accuracy: 0.6743 - 32s/epoch - 71ms/step\n",
      "Epoch 64/100\n",
      "448/448 - 32s - loss: 0.5384 - accuracy: 0.7983 - val_loss: 1.0520 - val_accuracy: 0.6637 - 32s/epoch - 71ms/step\n",
      "Epoch 65/100\n",
      "448/448 - 32s - loss: 0.5262 - accuracy: 0.8030 - val_loss: 1.0568 - val_accuracy: 0.6673 - 32s/epoch - 71ms/step\n",
      "Epoch 66/100\n",
      "448/448 - 32s - loss: 0.5213 - accuracy: 0.8060 - val_loss: 1.1513 - val_accuracy: 0.6548 - 32s/epoch - 72ms/step\n",
      "Epoch 67/100\n",
      "448/448 - 32s - loss: 0.5123 - accuracy: 0.8082 - val_loss: 1.1469 - val_accuracy: 0.6690 - 32s/epoch - 71ms/step\n",
      "Epoch 68/100\n",
      "448/448 - 32s - loss: 0.4983 - accuracy: 0.8125 - val_loss: 1.1138 - val_accuracy: 0.6748 - 32s/epoch - 71ms/step\n",
      "Epoch 69/100\n",
      "448/448 - 32s - loss: 0.4924 - accuracy: 0.8164 - val_loss: 1.1432 - val_accuracy: 0.6581 - 32s/epoch - 71ms/step\n",
      "Epoch 70/100\n",
      "448/448 - 32s - loss: 0.4888 - accuracy: 0.8194 - val_loss: 1.1555 - val_accuracy: 0.6704 - 32s/epoch - 72ms/step\n",
      "Epoch 71/100\n",
      "448/448 - 32s - loss: 0.4808 - accuracy: 0.8204 - val_loss: 1.1372 - val_accuracy: 0.6796 - 32s/epoch - 71ms/step\n",
      "Epoch 72/100\n",
      "448/448 - 32s - loss: 0.4705 - accuracy: 0.8228 - val_loss: 1.1410 - val_accuracy: 0.6807 - 32s/epoch - 71ms/step\n",
      "Epoch 73/100\n",
      "448/448 - 32s - loss: 0.4657 - accuracy: 0.8287 - val_loss: 1.1401 - val_accuracy: 0.6835 - 32s/epoch - 71ms/step\n",
      "Epoch 74/100\n",
      "448/448 - 32s - loss: 0.4562 - accuracy: 0.8301 - val_loss: 1.1436 - val_accuracy: 0.6765 - 32s/epoch - 72ms/step\n",
      "Epoch 75/100\n",
      "448/448 - 32s - loss: 0.4511 - accuracy: 0.8331 - val_loss: 1.1572 - val_accuracy: 0.6793 - 32s/epoch - 71ms/step\n",
      "Epoch 76/100\n",
      "448/448 - 32s - loss: 0.4428 - accuracy: 0.8350 - val_loss: 1.1642 - val_accuracy: 0.6810 - 32s/epoch - 71ms/step\n",
      "Epoch 77/100\n",
      "448/448 - 32s - loss: 0.4359 - accuracy: 0.8388 - val_loss: 1.1549 - val_accuracy: 0.6701 - 32s/epoch - 71ms/step\n",
      "Epoch 78/100\n",
      "448/448 - 32s - loss: 0.4204 - accuracy: 0.8418 - val_loss: 1.1838 - val_accuracy: 0.6743 - 32s/epoch - 72ms/step\n",
      "Epoch 79/100\n",
      "448/448 - 32s - loss: 0.4247 - accuracy: 0.8434 - val_loss: 1.1758 - val_accuracy: 0.6740 - 32s/epoch - 71ms/step\n",
      "Epoch 80/100\n",
      "448/448 - 32s - loss: 0.4167 - accuracy: 0.8443 - val_loss: 1.2235 - val_accuracy: 0.6771 - 32s/epoch - 71ms/step\n",
      "Epoch 81/100\n",
      "448/448 - 32s - loss: 0.4040 - accuracy: 0.8503 - val_loss: 1.2401 - val_accuracy: 0.6718 - 32s/epoch - 71ms/step\n",
      "Epoch 82/100\n",
      "448/448 - 32s - loss: 0.4002 - accuracy: 0.8524 - val_loss: 1.2257 - val_accuracy: 0.6623 - 32s/epoch - 71ms/step\n",
      "Epoch 83/100\n",
      "448/448 - 32s - loss: 0.3944 - accuracy: 0.8531 - val_loss: 1.1905 - val_accuracy: 0.6815 - 32s/epoch - 72ms/step\n",
      "Epoch 84/100\n",
      "448/448 - 32s - loss: 0.3941 - accuracy: 0.8550 - val_loss: 1.2125 - val_accuracy: 0.6865 - 32s/epoch - 71ms/step\n",
      "Epoch 85/100\n",
      "448/448 - 32s - loss: 0.3859 - accuracy: 0.8575 - val_loss: 1.2464 - val_accuracy: 0.6799 - 32s/epoch - 71ms/step\n",
      "Epoch 86/100\n",
      "448/448 - 32s - loss: 0.3775 - accuracy: 0.8593 - val_loss: 1.2362 - val_accuracy: 0.6721 - 32s/epoch - 71ms/step\n",
      "Epoch 87/100\n",
      "448/448 - 32s - loss: 0.3781 - accuracy: 0.8597 - val_loss: 1.2534 - val_accuracy: 0.6818 - 32s/epoch - 72ms/step\n",
      "Epoch 88/100\n",
      "448/448 - 32s - loss: 0.3638 - accuracy: 0.8640 - val_loss: 1.2715 - val_accuracy: 0.6796 - 32s/epoch - 71ms/step\n",
      "Epoch 89/100\n",
      "448/448 - 32s - loss: 0.3661 - accuracy: 0.8644 - val_loss: 1.2665 - val_accuracy: 0.6765 - 32s/epoch - 71ms/step\n",
      "Epoch 90/100\n",
      "448/448 - 32s - loss: 0.3497 - accuracy: 0.8681 - val_loss: 1.2847 - val_accuracy: 0.6673 - 32s/epoch - 71ms/step\n",
      "Epoch 91/100\n",
      "448/448 - 32s - loss: 0.3560 - accuracy: 0.8694 - val_loss: 1.2748 - val_accuracy: 0.6804 - 32s/epoch - 72ms/step\n",
      "Epoch 92/100\n",
      "448/448 - 32s - loss: 0.3438 - accuracy: 0.8737 - val_loss: 1.3166 - val_accuracy: 0.6659 - 32s/epoch - 71ms/step\n",
      "Epoch 93/100\n",
      "448/448 - 32s - loss: 0.3396 - accuracy: 0.8751 - val_loss: 1.3726 - val_accuracy: 0.6704 - 32s/epoch - 71ms/step\n",
      "Epoch 94/100\n",
      "448/448 - 32s - loss: 0.3335 - accuracy: 0.8770 - val_loss: 1.3187 - val_accuracy: 0.6851 - 32s/epoch - 71ms/step\n",
      "Epoch 95/100\n",
      "448/448 - 32s - loss: 0.3290 - accuracy: 0.8778 - val_loss: 1.4178 - val_accuracy: 0.6743 - 32s/epoch - 72ms/step\n",
      "Epoch 96/100\n",
      "448/448 - 32s - loss: 0.3260 - accuracy: 0.8789 - val_loss: 1.3922 - val_accuracy: 0.6751 - 32s/epoch - 71ms/step\n",
      "Epoch 97/100\n",
      "448/448 - 32s - loss: 0.3192 - accuracy: 0.8827 - val_loss: 1.2995 - val_accuracy: 0.6874 - 32s/epoch - 71ms/step\n",
      "Epoch 98/100\n",
      "448/448 - 32s - loss: 0.3171 - accuracy: 0.8837 - val_loss: 1.3686 - val_accuracy: 0.6762 - 32s/epoch - 71ms/step\n",
      "Epoch 99/100\n",
      "448/448 - 32s - loss: 0.3037 - accuracy: 0.8894 - val_loss: 1.3838 - val_accuracy: 0.6712 - 32s/epoch - 72ms/step\n",
      "Epoch 100/100\n",
      "448/448 - 32s - loss: 0.3103 - accuracy: 0.8859 - val_loss: 1.4201 - val_accuracy: 0.6721 - 32s/epoch - 71ms/step\n"
     ]
    }
   ],
   "source": [
    "#training the model\n",
    "num_epochs = 100 # we iterate 100 times over the entire training set \n",
    "history = model.fit_generator(train_flow, \n",
    "                    steps_per_epoch=len(X_train) / batch_size, \n",
    "                    epochs=num_epochs,  \n",
    "                    verbose=2,  \n",
    "                    validation_data=val_flow,  \n",
    "                    validation_steps=len(X_val) / batch_size) "
   ]
  },
  {
   "cell_type": "markdown",
   "metadata": {
    "id": "dWmHRV3F8n9C"
   },
   "source": [
    "Serialize the model to JSON and save the model weights in an hd5 file so that we can make use of this file to make predictions rather than training the network again"
   ]
  },
  {
   "cell_type": "code",
   "execution_count": 16,
   "metadata": {
    "colab": {
     "base_uri": "https://localhost:8080/"
    },
    "id": "_oWMViso8PSb",
    "outputId": "2ae1f6c5-d040-4fca-fcfe-c986b9e41e4d"
   },
   "outputs": [
    {
     "name": "stdout",
     "output_type": "stream",
     "text": [
      "Saved model to disk\n"
     ]
    }
   ],
   "source": [
    "#Saving the model’s architecture into JSON and model’s weight into .h5\n",
    "model_json = model.to_json()\n",
    "with open(\"model.json\", \"w\") as json_file:\n",
    "    json_file.write(model_json)\n",
    "model.save_weights(\"model.h5\")\n",
    "print(\"Saved model to disk\")"
   ]
  },
  {
   "cell_type": "code",
   "execution_count": 17,
   "metadata": {
    "colab": {
     "base_uri": "https://localhost:8080/"
    },
    "id": "vH7Z8hVfw9jw",
    "outputId": "e40c4d12-15b3-4d15-9c8b-576a9f7ca23d"
   },
   "outputs": [
    {
     "name": "stdout",
     "output_type": "stream",
     "text": [
      "113/113 [==============================] - 3s 15ms/step - loss: 1.3512 - accuracy: 0.6868\n",
      "Test Acc: 0.6868208646774292\n"
     ]
    }
   ],
   "source": [
    "loss = model.evaluate(X_test/255., y_test) \n",
    "print(\"Test Acc: \" + str(loss[1]))"
   ]
  },
  {
   "cell_type": "markdown",
   "metadata": {
    "id": "HrQUpYBv8t3g"
   },
   "source": [
    "Creating the Loss and Accuracy graph for the VGG-16 model we generated."
   ]
  },
  {
   "cell_type": "code",
   "execution_count": 18,
   "metadata": {
    "colab": {
     "base_uri": "https://localhost:8080/",
     "height": 621
    },
    "id": "mLW_TiYC8hEy",
    "outputId": "3d785e39-afff-4932-da68-54b8a19ec166"
   },
   "outputs": [
    {
     "data": {
      "text/plain": [
       "<Figure size 432x288 with 0 Axes>"
      ]
     },
     "execution_count": 18,
     "metadata": {},
     "output_type": "execute_result"
    },
    {
     "data": {
      "image/png": "[encoded data removed]",
      "text/plain": [
       "<Figure size 432x288 with 1 Axes>"
      ]
     },
     "metadata": {
      "needs_background": "light"
     },
     "output_type": "display_data"
    },
    {
     "data": {
      "image/png": "[encoded data removed]",
      "text/plain": [
       "<Figure size 432x288 with 1 Axes>"
      ]
     },
     "metadata": {
      "needs_background": "light"
     },
     "output_type": "display_data"
    },
    {
     "data": {
      "text/plain": [
       "<Figure size 432x288 with 0 Axes>"
      ]
     },
     "metadata": {},
     "output_type": "display_data"
    }
   ],
   "source": [
    "# visualizing losses and accuracy\n",
    "%matplotlib inline\n",
    "\n",
    "train_loss=history.history['loss']\n",
    "val_loss=history.history['val_loss']\n",
    "train_acc=history.history['accuracy']\n",
    "val_acc=history.history['val_accuracy']\n",
    "\n",
    "epochs = range(len(train_acc))\n",
    "\n",
    "plt.plot(epochs,train_loss,'r', label='train_loss')\n",
    "plt.plot(epochs,val_loss,'b', label='val_loss')\n",
    "plt.title('train_loss vs val_loss')\n",
    "plt.xlabel('epoch')\n",
    "plt.ylabel('loss')\n",
    "plt.legend()\n",
    "plt.figure()\n",
    "\n",
    "plt.plot(epochs,train_acc,'r', label='train_acc')\n",
    "plt.plot(epochs,val_acc,'b', label='val_acc')\n",
    "plt.title('train_acc vs val_acc')\n",
    "plt.xlabel('epoch')\n",
    "plt.ylabel('accuracy')\n",
    "plt.legend()\n",
    "plt.figure()"
   ]
  },
  {
   "cell_type": "markdown",
   "metadata": {
    "id": "Tb08lKLzhu0X"
   },
   "source": [
    "From the graphs above:\n",
    "\n",
    "The validation loss decreases until a turning point is reached, and then it begins to slowly increase after 20 epochs. The start of overfitting is at that moment.\n",
    "\n",
    "Validation accuracy is 68.07% and the training accuracy is 88.51%. This means that the model can detect emotion on the training dataset more accurately than the validation or test dataset. "
   ]
  },
  {
   "cell_type": "markdown",
   "metadata": {
    "id": "PHEosux580tA"
   },
   "source": [
    "Confusion matrix for true prediction vs predicted expressions"
   ]
  },
  {
   "cell_type": "code",
   "execution_count": 19,
   "metadata": {
    "id": "InjsmTaa8qbq"
   },
   "outputs": [],
   "source": [
    "#making the confusion matrix of true prediction vs predicted expressions\n",
    "def plot_confusion_matrix(y_test, y_pred, classes,\n",
    "                          normalize=False,\n",
    "                          title='Unnormalized confusion matrix',\n",
    "                          cmap=plt.cm.Blues):\n",
    "    cm = confusion_matrix(y_test, y_pred)\n",
    "    \n",
    "    if normalize:\n",
    "        cm = np.round(cm.astype('float') / cm.sum(axis=1)[:, np.newaxis], 2)\n",
    "        \n",
    "    np.set_printoptions(precision=2)\n",
    "        \n",
    "    plt.imshow(cm, interpolation='nearest', cmap=cmap)\n",
    "    plt.title(title)\n",
    "    plt.colorbar()\n",
    "    tick_marks = np.arange(len(classes))\n",
    "    plt.xticks(tick_marks, classes, rotation=45)\n",
    "    plt.yticks(tick_marks, classes)\n",
    "\n",
    "    thresh = cm.min() + (cm.max() - cm.min()) / 2.\n",
    "    for i, j in itertools.product(range(cm.shape[0]), range(cm.shape[1])):\n",
    "        plt.text(j, i, cm[i, j],\n",
    "                 horizontalalignment=\"center\",\n",
    "                 color=\"white\" if cm[i, j] > thresh else \"black\")\n",
    "\n",
    "    plt.tight_layout()\n",
    "    plt.ylabel('True expression')\n",
    "    plt.xlabel('Predicted expression')\n",
    "    plt.show()\n",
    "  "
   ]
  },
  {
   "cell_type": "code",
   "execution_count": 20,
   "metadata": {
    "colab": {
     "base_uri": "https://localhost:8080/"
    },
    "id": "l2g1S9x29IPv",
    "outputId": "657a679a-3b5b-4732-80c5-18506f179940"
   },
   "outputs": [
    {
     "name": "stdout",
     "output_type": "stream",
     "text": [
      "113/113 [==============================] - 2s 12ms/step\n"
     ]
    }
   ],
   "source": [
    "y_pred_ = model.predict(X_test/255., verbose=1)\n",
    "y_pred = np.argmax(y_pred_, axis=1)\n",
    "t_te = np.argmax(y_test, axis=1)"
   ]
  },
  {
   "cell_type": "code",
   "execution_count": 21,
   "metadata": {
    "colab": {
     "base_uri": "https://localhost:8080/",
     "height": 314
    },
    "id": "G1PoQYAe8-fN",
    "outputId": "8359ca5b-c9da-4ee5-efa7-eb36fbfee285"
   },
   "outputs": [
    {
     "data": {
      "image/png": "[encoded data removed]",
      "text/plain": [
       "<Figure size 432x288 with 2 Axes>"
      ]
     },
     "metadata": {
      "needs_background": "light"
     },
     "output_type": "display_data"
    }
   ],
   "source": [
    "fig = plot_confusion_matrix(y_test=t_te, y_pred=y_pred,\n",
    "                      classes=classes,\n",
    "                      normalize=True,\n",
    "                      cmap=plt.cm.Greys,\n",
    "                      title='Average accuracy: ' + str(np.sum(y_pred == t_te)/len(t_te)) + '\\n')"
   ]
  },
  {
   "cell_type": "markdown",
   "metadata": {
    "id": "fhBltiSfgxWK"
   },
   "source": [
    "#Conclusion\n",
    "\n",
    "The proposed model with additional implementation of image augmentations, layer dropout and normalization with less complexity achieved a model accuracy of 68.07% validation accuracy at 88.51% training accuracy at 100 epochs.\n",
    "\n",
    "The model proposed in this project has some overfitting issues which can be improved in two methods. One such method is to use GAP. Another attempt to reduce overfitting possibility is the use of early stopping. Further is explained in the dissertation report attached."
   ]
  }
 ],
 "metadata": {
  "accelerator": "GPU",
  "colab": {
   "collapsed_sections": [],
   "name": "Emotion Recognition pc2013.ipynb",
   "provenance": []
  },
  "gpuClass": "standard",
  "kernelspec": {
   "display_name": "Python 3 (ipykernel)",
   "language": "python",
   "name": "python3"
  },
  "language_info": {
   "codemirror_mode": {
    "name": "ipython",
    "version": 3
   },
   "file_extension": ".py",
   "mimetype": "text/x-python",
   "name": "python",
   "nbconvert_exporter": "python",
   "pygments_lexer": "ipython3",
   "version": "3.9.12"
  }
 },
 "nbformat": 4,
 "nbformat_minor": 1
}
